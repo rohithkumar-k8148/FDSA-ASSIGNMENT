{
  "nbformat": 4,
  "nbformat_minor": 0,
  "metadata": {
    "colab": {
      "provenance": [],
      "authorship_tag": "ABX9TyO/60ehMwRnr3F8DfbX9KVW",
      "include_colab_link": true
    },
    "kernelspec": {
      "name": "python3",
      "display_name": "Python 3"
    },
    "language_info": {
      "name": "python"
    }
  },
  "cells": [
    {
      "cell_type": "markdown",
      "metadata": {
        "id": "view-in-github",
        "colab_type": "text"
      },
      "source": [
        "<a href=\"https://colab.research.google.com/github/rohithkumar-k8148/FDSA-ASSIGNMENT/blob/main/FDSA%20ASSIGNMENT%201.ipynb\" target=\"_parent\"><img src=\"https://colab.research.google.com/assets/colab-badge.svg\" alt=\"Open In Colab\"/></a>"
      ]
    },
    {
      "cell_type": "code",
      "execution_count": 2,
      "metadata": {
        "colab": {
          "base_uri": "https://localhost:8080/"
        },
        "id": "HVVBehLNjTeo",
        "outputId": "c146a9e6-ea90-4ca5-b40f-109d2bccd656"
      },
      "outputs": [
        {
          "output_type": "stream",
          "name": "stdout",
          "text": [
            "mean=109.55 stdv=1.82\n",
            "Reject Null Hypothesis\n",
            "Z-Score value: 3.1388398615346333 p value: 0.0016961811448211249\n",
            "Reject Null Hypothesis\n",
            "Z-Score value: 3.2504483034479814 p value: 0.0011522321510358227\n",
            "Reject Null Hypothesis\n",
            "Z-Score value: 3.0120297384586467 p value: 0.002595071732799711\n",
            "Reject Null Hypothesis\n"
          ]
        }
      ],
      "source": [
        " #imports\n",
        "import math\n",
        "import numpy as np\n",
        "from numpy.random import randn\n",
        "from statsmodels.stats.weightstats import ztest\n",
        "from statsmodels.stats import weightstats as stests\n",
        "import pandas as pd\n",
        "# Generate a random array of 50 numbers having mean 110 and sd 15\n",
        "# similar to the IQ scores data we assume above\n",
        "mean_iq = 110\n",
        "sd_iq = 15/math.sqrt(50)\n",
        "null_mean =100\n",
        "data = sd_iq*randn(50)+mean_iq\n",
        "# print mean and sd\n",
        "print('mean=%.2f stdv=%.2f' % (np.mean(data), np.std(data)))\n",
        "ztest_Score, p_value= ztest(data,value = null_mean, alternative='larger')\n",
        "if(p_value< 0.05):\n",
        "  print(\"Reject Null Hypothesis\")\n",
        "else:\n",
        "  print(\"Fail to Reject NUll Hypothesis\")\n",
        "# load dataset as pandas dataframe\n",
        "df = pd.read_csv('/content/country_wise_latest.csv')\n",
        "df.head()\n",
        "ztest ,propability_value = stests.ztest(df['Confirmed'], x2=None, value=146)\n",
        "print(\"Z-Score value:\",ztest,\"p value:\",float(propability_value))\n",
        "if(propability_value< 0.05):\n",
        "    print(\"Reject Null Hypothesis\")\n",
        "else:\n",
        "      print(\"Fail to Reject NUll Hypothesis\")\n",
        "ztest ,propability_value = stests.ztest(df['Deaths'], x2=None, value=146)\n",
        "print(\"Z-Score value:\",ztest,\"p value:\",float(propability_value))\n",
        "if(propability_value< 0.05):\n",
        "    print(\"Reject Null Hypothesis\")\n",
        "else:\n",
        "    print(\"Fail to Reject NUll Hypothesis\")\n",
        "ztest ,propability_value = stests.ztest(df['Confirmed'], df['Deaths'],\n",
        "value=146)\n",
        "print(\"Z-Score value:\",ztest,\"p value:\",float(propability_value))\n",
        "if(propability_value< 0.05):\n",
        "    print(\"Reject Null Hypothesis\")\n",
        "else:\n",
        "    print(\"Fail to Reject NUll Hypothesis\")"
      ]
    }
  ]
}