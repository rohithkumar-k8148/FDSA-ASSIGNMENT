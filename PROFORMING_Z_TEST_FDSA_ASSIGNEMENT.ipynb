{
  "nbformat": 4,
  "nbformat_minor": 0,
  "metadata": {
    "colab": {
      "provenance": [],
      "authorship_tag": "ABX9TyNJmMVifTSjPR4TrxQ3y9Pv",
      "include_colab_link": true
    },
    "kernelspec": {
      "name": "python3",
      "display_name": "Python 3"
    },
    "language_info": {
      "name": "python"
    }
  },
  "cells": [
    {
      "cell_type": "markdown",
      "metadata": {
        "id": "view-in-github",
        "colab_type": "text"
      },
      "source": [
        "<a href=\"https://colab.research.google.com/github/rohithkumar-k8148/FDSA-ASSIGNMENT/blob/main/PROFORMING_Z_TEST_FDSA_ASSIGNEMENT.ipynb\" target=\"_parent\"><img src=\"https://colab.research.google.com/assets/colab-badge.svg\" alt=\"Open In Colab\"/></a>"
      ]
    },
    {
      "cell_type": "code",
      "execution_count": 1,
      "metadata": {
        "colab": {
          "base_uri": "https://localhost:8080/"
        },
        "id": "6mnXZZNLM4kz",
        "outputId": "f4754ca6-39d1-44b7-b9a9-35b4d23a6bc3"
      },
      "outputs": [
        {
          "output_type": "stream",
          "name": "stdout",
          "text": [
            "mean=109.97 stdv=1.73\n",
            "Reject Null Hypothesis\n"
          ]
        }
      ],
      "source": [
        "# 1. Z-test using formula\n",
        "\n",
        "# imports libraries\n",
        "import math\n",
        "import numpy as np\n",
        "from numpy.random import randn\n",
        "from statsmodels.stats.weightstats import ztest\n",
        "\n",
        "#Z-test Formula values\n",
        "mean_iq = 110\n",
        "sd_iq = 15/math.sqrt(50)\n",
        "alpha =0.05\n",
        "null_mean =100\n",
        "data = sd_iq*randn(50)+mean_iq\n",
        "\n",
        "#Print mean and sd\n",
        "\n",
        "print('mean=%.2f stdv=%.2f' % (np.mean(data), np.std(data)))\n",
        "\n",
        "#Performing Z-test\n",
        "\n",
        "ztest_Score, p_value= ztest(data,value = null_mean, alternative='larger')\n",
        "\n",
        "#Hypothesis\n",
        "\n",
        "if(p_value < alpha):\n",
        "  print(\"Reject Null Hypothesis\")\n",
        "else:\n",
        "  print(\"Accept NUll Hypothesis\")\n"
      ]
    },
    {
      "cell_type": "code",
      "source": [
        "# 2. Ztest using dataset\n",
        "\n",
        "#import libraries\n",
        "import pandas as pd\n",
        "from statsmodels.stats import weightstats as stests\n",
        "\n",
        "#Read CSV file\n",
        "df = pd.read_csv(r\"/content/country_wise_latest.csv\")\n",
        "\n",
        "#describe the value\n",
        "df[['Confirmed','Deaths']].describe()\n",
        "\n",
        "#By using the Z-test in Stats\n",
        "ztest ,propability_value = stests.ztest(df['Deaths'], x2=None, value=146)\n",
        "print(float(propability_value))\n",
        "\n",
        "#Hypothesis\n",
        "if propability_value<0.05:\n",
        "    print(\"Null hyphothes is rejected , Alternative hyphothesis accepted\")\n",
        "else:\n",
        "    print(\"Null hyphothesis accepted , Alternative hyphothesis rejected\")"
      ],
      "metadata": {
        "colab": {
          "base_uri": "https://localhost:8080/"
        },
        "id": "gif1_gBrNCe3",
        "outputId": "ca5e33a0-f56e-443a-d643-1852c5273648"
      },
      "execution_count": 2,
      "outputs": [
        {
          "output_type": "stream",
          "name": "stdout",
          "text": [
            "0.0011522321510358227\n",
            "Null hyphothes is rejected , Alternative hyphothesis accepted\n"
          ]
        }
      ]
    }
  ]
}